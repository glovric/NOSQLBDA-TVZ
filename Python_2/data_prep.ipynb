{
 "cells": [
  {
   "cell_type": "code",
   "execution_count": 2,
   "metadata": {},
   "outputs": [],
   "source": [
    "import numpy as np\n",
    "import pandas as pd\n",
    "import scipy.io"
   ]
  },
  {
   "cell_type": "markdown",
   "metadata": {},
   "source": [
    "# Loading .mat data"
   ]
  },
  {
   "cell_type": "code",
   "execution_count": 3,
   "metadata": {},
   "outputs": [
    {
     "name": "stdout",
     "output_type": "stream",
     "text": [
      "dict_keys(['__header__', '__version__', '__globals__', 'X_tr', 'X_te', 'Y_tr', 'Y_te', 'location_group', 'features', 'location_ids'])\n"
     ]
    }
   ],
   "source": [
    "path = \"../data/water_dataset.mat\"\n",
    "mat_data = scipy.io.loadmat(path)\n",
    "print(mat_data.keys())"
   ]
  },
  {
   "cell_type": "markdown",
   "metadata": {},
   "source": [
    "# Converting to DataFrame"
   ]
  },
  {
   "cell_type": "code",
   "execution_count": 4,
   "metadata": {},
   "outputs": [],
   "source": [
    "data_dict = {}\n",
    "\n",
    "for key in mat_data.keys():\n",
    "    if key.startswith('__'):\n",
    "        continue\n",
    "    \n",
    "    data_dict[key] = mat_data[key]"
   ]
  },
  {
   "cell_type": "code",
   "execution_count": 5,
   "metadata": {},
   "outputs": [
    {
     "name": "stdout",
     "output_type": "stream",
     "text": [
      "(423, 37, 11)\n",
      "(15651, 11)\n"
     ]
    }
   ],
   "source": [
    "X_train = data_dict['X_tr'].squeeze()\n",
    "X_train = np.stack(X_train, axis=0)\n",
    "print(X_train.shape)\n",
    "X_train = X_train.reshape(-1, 11)\n",
    "print(X_train.shape)"
   ]
  },
  {
   "cell_type": "code",
   "execution_count": 6,
   "metadata": {},
   "outputs": [
    {
     "name": "stdout",
     "output_type": "stream",
     "text": [
      "(282, 37, 11)\n",
      "(10434, 11)\n"
     ]
    }
   ],
   "source": [
    "X_test = data_dict['X_te'].squeeze()\n",
    "X_test = np.stack(X_test, axis=0)\n",
    "print(X_test.shape)\n",
    "X_test = X_test.reshape(-1, 11)\n",
    "print(X_test.shape)"
   ]
  },
  {
   "cell_type": "code",
   "execution_count": 7,
   "metadata": {},
   "outputs": [
    {
     "name": "stdout",
     "output_type": "stream",
     "text": [
      "(15651,)\n"
     ]
    }
   ],
   "source": [
    "y_train = data_dict['Y_tr']\n",
    "y_train = y_train.T.reshape(-1)\n",
    "print(y_train.shape)"
   ]
  },
  {
   "cell_type": "code",
   "execution_count": 8,
   "metadata": {},
   "outputs": [
    {
     "name": "stdout",
     "output_type": "stream",
     "text": [
      "(10434,)\n"
     ]
    }
   ],
   "source": [
    "y_test = data_dict['Y_te']\n",
    "y_test = y_test.T.reshape(-1)\n",
    "print(y_test.shape)"
   ]
  },
  {
   "cell_type": "code",
   "execution_count": 9,
   "metadata": {},
   "outputs": [
    {
     "name": "stdout",
     "output_type": "stream",
     "text": [
      "(26085, 11)\n",
      "(26085,)\n"
     ]
    }
   ],
   "source": [
    "X = np.vstack((X_train, X_test))\n",
    "y = np.hstack((y_train, y_test))\n",
    "\n",
    "print(X.shape)\n",
    "print(y.shape)"
   ]
  },
  {
   "cell_type": "code",
   "execution_count": 10,
   "metadata": {},
   "outputs": [
    {
     "name": "stdout",
     "output_type": "stream",
     "text": [
      "(26085, 12)\n"
     ]
    }
   ],
   "source": [
    "data_merged = np.hstack((X, y.reshape(-1, 1)))\n",
    "print(data_merged.shape)"
   ]
  },
  {
   "cell_type": "code",
   "execution_count": 11,
   "metadata": {},
   "outputs": [
    {
     "name": "stdout",
     "output_type": "stream",
     "text": [
      "(11,)\n"
     ]
    },
    {
     "data": {
      "text/plain": [
       "['Specific conductance, water, unfiltered, microsiemens per centimeter at 25 degrees Celsius (Maximum)',\n",
       " 'pH, water, unfiltered, field, standard units (Maximum)',\n",
       " 'pH, water, unfiltered, field, standard units (Minimum)',\n",
       " 'Specific conductance, water, unfiltered, microsiemens per centimeter at 25 degrees Celsius (Minimum)',\n",
       " 'Specific conductance, water, unfiltered, microsiemens per centimeter at 25 degrees Celsius (Mean)',\n",
       " 'Dissolved oxygen, water, unfiltered, milligrams per liter (Maximum)',\n",
       " 'Dissolved oxygen, water, unfiltered, milligrams per liter (Mean)',\n",
       " 'Dissolved oxygen, water, unfiltered, milligrams per liter (Minimum)',\n",
       " 'Temperature, water, degrees Celsius (Mean)',\n",
       " 'Temperature, water, degrees Celsius (Minimum)',\n",
       " 'Temperature, water, degrees Celsius (Maximum)']"
      ]
     },
     "execution_count": 11,
     "metadata": {},
     "output_type": "execute_result"
    }
   ],
   "source": [
    "features = data_dict['features'].squeeze()\n",
    "features = np.stack(features, axis=0).squeeze()\n",
    "print(features.shape)\n",
    "features = list(features)\n",
    "features"
   ]
  },
  {
   "cell_type": "code",
   "execution_count": 12,
   "metadata": {},
   "outputs": [],
   "source": [
    "features_short = [\n",
    "    \"Specific conductance (Maximum)\",\n",
    "    \"pH, standard units (Maximum)\",\n",
    "    \"pH, standard units (Minimum)\",\n",
    "    \"Specific conductance (Minimum)\",\n",
    "    \"Specific conductance (Mean)\",\n",
    "    \"Dissolved oxygen (Maximum)\",\n",
    "    \"Dissolved oxygen (Mean)\",\n",
    "    \"Dissolved oxygen (Minimum)\",\n",
    "    \"Temperature (Mean)\",\n",
    "    \"Temperature (Minimum)\",\n",
    "    \"Temperature (Maximum)\",\n",
    "    \"Target\"\n",
    "]"
   ]
  },
  {
   "cell_type": "code",
   "execution_count": 13,
   "metadata": {},
   "outputs": [
    {
     "data": {
      "text/html": [
       "<div>\n",
       "<style scoped>\n",
       "    .dataframe tbody tr th:only-of-type {\n",
       "        vertical-align: middle;\n",
       "    }\n",
       "\n",
       "    .dataframe tbody tr th {\n",
       "        vertical-align: top;\n",
       "    }\n",
       "\n",
       "    .dataframe thead th {\n",
       "        text-align: right;\n",
       "    }\n",
       "</style>\n",
       "<table border=\"1\" class=\"dataframe\">\n",
       "  <thead>\n",
       "    <tr style=\"text-align: right;\">\n",
       "      <th></th>\n",
       "      <th>Specific conductance (Maximum)</th>\n",
       "      <th>pH, standard units (Maximum)</th>\n",
       "      <th>pH, standard units (Minimum)</th>\n",
       "      <th>Specific conductance (Minimum)</th>\n",
       "      <th>Specific conductance (Mean)</th>\n",
       "      <th>Dissolved oxygen (Maximum)</th>\n",
       "      <th>Dissolved oxygen (Mean)</th>\n",
       "      <th>Dissolved oxygen (Minimum)</th>\n",
       "      <th>Temperature (Mean)</th>\n",
       "      <th>Temperature (Minimum)</th>\n",
       "      <th>Temperature (Maximum)</th>\n",
       "      <th>Target</th>\n",
       "    </tr>\n",
       "  </thead>\n",
       "  <tbody>\n",
       "    <tr>\n",
       "      <th>0</th>\n",
       "      <td>0.001131</td>\n",
       "      <td>0.884615</td>\n",
       "      <td>0.001120</td>\n",
       "      <td>0.001113</td>\n",
       "      <td>0.677632</td>\n",
       "      <td>0.841463</td>\n",
       "      <td>0.765152</td>\n",
       "      <td>0.787402</td>\n",
       "      <td>0.293750</td>\n",
       "      <td>0.298077</td>\n",
       "      <td>0.276163</td>\n",
       "      <td>0.648148</td>\n",
       "    </tr>\n",
       "    <tr>\n",
       "      <th>1</th>\n",
       "      <td>0.001170</td>\n",
       "      <td>0.871795</td>\n",
       "      <td>0.001159</td>\n",
       "      <td>0.001152</td>\n",
       "      <td>0.703947</td>\n",
       "      <td>0.829268</td>\n",
       "      <td>0.772727</td>\n",
       "      <td>0.795276</td>\n",
       "      <td>0.293750</td>\n",
       "      <td>0.301282</td>\n",
       "      <td>0.276163</td>\n",
       "      <td>0.648148</td>\n",
       "    </tr>\n",
       "    <tr>\n",
       "      <th>2</th>\n",
       "      <td>0.001326</td>\n",
       "      <td>0.884615</td>\n",
       "      <td>0.001198</td>\n",
       "      <td>0.001250</td>\n",
       "      <td>0.677632</td>\n",
       "      <td>0.853659</td>\n",
       "      <td>0.750000</td>\n",
       "      <td>0.755906</td>\n",
       "      <td>0.300000</td>\n",
       "      <td>0.298077</td>\n",
       "      <td>0.287791</td>\n",
       "      <td>0.648148</td>\n",
       "    </tr>\n",
       "    <tr>\n",
       "      <th>3</th>\n",
       "      <td>0.014094</td>\n",
       "      <td>0.858974</td>\n",
       "      <td>0.001238</td>\n",
       "      <td>0.003926</td>\n",
       "      <td>0.697368</td>\n",
       "      <td>0.829268</td>\n",
       "      <td>0.772727</td>\n",
       "      <td>0.771654</td>\n",
       "      <td>0.296875</td>\n",
       "      <td>0.294872</td>\n",
       "      <td>0.279070</td>\n",
       "      <td>0.638889</td>\n",
       "    </tr>\n",
       "    <tr>\n",
       "      <th>4</th>\n",
       "      <td>0.088109</td>\n",
       "      <td>0.858974</td>\n",
       "      <td>0.010766</td>\n",
       "      <td>0.029297</td>\n",
       "      <td>0.684211</td>\n",
       "      <td>0.853659</td>\n",
       "      <td>0.765152</td>\n",
       "      <td>0.755906</td>\n",
       "      <td>0.296875</td>\n",
       "      <td>0.291667</td>\n",
       "      <td>0.281977</td>\n",
       "      <td>0.648148</td>\n",
       "    </tr>\n",
       "  </tbody>\n",
       "</table>\n",
       "</div>"
      ],
      "text/plain": [
       "   Specific conductance (Maximum)  pH, standard units (Maximum)  \\\n",
       "0                        0.001131                      0.884615   \n",
       "1                        0.001170                      0.871795   \n",
       "2                        0.001326                      0.884615   \n",
       "3                        0.014094                      0.858974   \n",
       "4                        0.088109                      0.858974   \n",
       "\n",
       "   pH, standard units (Minimum)  Specific conductance (Minimum)  \\\n",
       "0                      0.001120                        0.001113   \n",
       "1                      0.001159                        0.001152   \n",
       "2                      0.001198                        0.001250   \n",
       "3                      0.001238                        0.003926   \n",
       "4                      0.010766                        0.029297   \n",
       "\n",
       "   Specific conductance (Mean)  Dissolved oxygen (Maximum)  \\\n",
       "0                     0.677632                    0.841463   \n",
       "1                     0.703947                    0.829268   \n",
       "2                     0.677632                    0.853659   \n",
       "3                     0.697368                    0.829268   \n",
       "4                     0.684211                    0.853659   \n",
       "\n",
       "   Dissolved oxygen (Mean)  Dissolved oxygen (Minimum)  Temperature (Mean)  \\\n",
       "0                 0.765152                    0.787402            0.293750   \n",
       "1                 0.772727                    0.795276            0.293750   \n",
       "2                 0.750000                    0.755906            0.300000   \n",
       "3                 0.772727                    0.771654            0.296875   \n",
       "4                 0.765152                    0.755906            0.296875   \n",
       "\n",
       "   Temperature (Minimum)  Temperature (Maximum)    Target  \n",
       "0               0.298077               0.276163  0.648148  \n",
       "1               0.301282               0.276163  0.648148  \n",
       "2               0.298077               0.287791  0.648148  \n",
       "3               0.294872               0.279070  0.638889  \n",
       "4               0.291667               0.281977  0.648148  "
      ]
     },
     "execution_count": 13,
     "metadata": {},
     "output_type": "execute_result"
    }
   ],
   "source": [
    "df = pd.DataFrame(data_merged, columns=features_short)\n",
    "df.head()"
   ]
  },
  {
   "cell_type": "code",
   "execution_count": 14,
   "metadata": {},
   "outputs": [
    {
     "data": {
      "text/html": [
       "<div>\n",
       "<style scoped>\n",
       "    .dataframe tbody tr th:only-of-type {\n",
       "        vertical-align: middle;\n",
       "    }\n",
       "\n",
       "    .dataframe tbody tr th {\n",
       "        vertical-align: top;\n",
       "    }\n",
       "\n",
       "    .dataframe thead th {\n",
       "        text-align: right;\n",
       "    }\n",
       "</style>\n",
       "<table border=\"1\" class=\"dataframe\">\n",
       "  <thead>\n",
       "    <tr style=\"text-align: right;\">\n",
       "      <th></th>\n",
       "      <th>Specific conductance (Maximum)</th>\n",
       "      <th>pH, standard units (Maximum)</th>\n",
       "      <th>pH, standard units (Minimum)</th>\n",
       "      <th>Specific conductance (Minimum)</th>\n",
       "      <th>Specific conductance (Mean)</th>\n",
       "      <th>Dissolved oxygen (Maximum)</th>\n",
       "      <th>Dissolved oxygen (Mean)</th>\n",
       "      <th>Dissolved oxygen (Minimum)</th>\n",
       "      <th>Temperature (Mean)</th>\n",
       "      <th>Temperature (Minimum)</th>\n",
       "      <th>Temperature (Maximum)</th>\n",
       "      <th>Target</th>\n",
       "    </tr>\n",
       "  </thead>\n",
       "  <tbody>\n",
       "    <tr>\n",
       "      <th>count</th>\n",
       "      <td>26085.000000</td>\n",
       "      <td>26085.000000</td>\n",
       "      <td>26085.000000</td>\n",
       "      <td>26085.000000</td>\n",
       "      <td>26085.000000</td>\n",
       "      <td>26085.000000</td>\n",
       "      <td>26085.000000</td>\n",
       "      <td>26085.000000</td>\n",
       "      <td>26085.000000</td>\n",
       "      <td>26085.000000</td>\n",
       "      <td>26085.000000</td>\n",
       "      <td>26085.000000</td>\n",
       "    </tr>\n",
       "    <tr>\n",
       "      <th>mean</th>\n",
       "      <td>0.071648</td>\n",
       "      <td>0.887349</td>\n",
       "      <td>0.030986</td>\n",
       "      <td>0.047079</td>\n",
       "      <td>0.550942</td>\n",
       "      <td>0.857237</td>\n",
       "      <td>0.585189</td>\n",
       "      <td>0.557359</td>\n",
       "      <td>0.588324</td>\n",
       "      <td>0.569588</td>\n",
       "      <td>0.581686</td>\n",
       "      <td>0.663508</td>\n",
       "    </tr>\n",
       "    <tr>\n",
       "      <th>std</th>\n",
       "      <td>0.168408</td>\n",
       "      <td>0.035386</td>\n",
       "      <td>0.122239</td>\n",
       "      <td>0.136686</td>\n",
       "      <td>0.119689</td>\n",
       "      <td>0.031167</td>\n",
       "      <td>0.146308</td>\n",
       "      <td>0.172836</td>\n",
       "      <td>0.200402</td>\n",
       "      <td>0.208671</td>\n",
       "      <td>0.186540</td>\n",
       "      <td>0.029385</td>\n",
       "    </tr>\n",
       "    <tr>\n",
       "      <th>min</th>\n",
       "      <td>0.000526</td>\n",
       "      <td>0.410256</td>\n",
       "      <td>0.000255</td>\n",
       "      <td>0.000508</td>\n",
       "      <td>0.118421</td>\n",
       "      <td>0.719512</td>\n",
       "      <td>0.068182</td>\n",
       "      <td>0.031496</td>\n",
       "      <td>0.059375</td>\n",
       "      <td>0.022436</td>\n",
       "      <td>0.090116</td>\n",
       "      <td>0.574074</td>\n",
       "    </tr>\n",
       "    <tr>\n",
       "      <th>25%</th>\n",
       "      <td>0.001910</td>\n",
       "      <td>0.871795</td>\n",
       "      <td>0.001591</td>\n",
       "      <td>0.001777</td>\n",
       "      <td>0.480263</td>\n",
       "      <td>0.841463</td>\n",
       "      <td>0.507576</td>\n",
       "      <td>0.472441</td>\n",
       "      <td>0.421875</td>\n",
       "      <td>0.400641</td>\n",
       "      <td>0.427326</td>\n",
       "      <td>0.648148</td>\n",
       "    </tr>\n",
       "    <tr>\n",
       "      <th>50%</th>\n",
       "      <td>0.002632</td>\n",
       "      <td>0.884615</td>\n",
       "      <td>0.002220</td>\n",
       "      <td>0.002422</td>\n",
       "      <td>0.546053</td>\n",
       "      <td>0.853659</td>\n",
       "      <td>0.583333</td>\n",
       "      <td>0.566929</td>\n",
       "      <td>0.600000</td>\n",
       "      <td>0.580128</td>\n",
       "      <td>0.595930</td>\n",
       "      <td>0.657407</td>\n",
       "    </tr>\n",
       "    <tr>\n",
       "      <th>75%</th>\n",
       "      <td>0.005497</td>\n",
       "      <td>0.910256</td>\n",
       "      <td>0.003713</td>\n",
       "      <td>0.004902</td>\n",
       "      <td>0.631579</td>\n",
       "      <td>0.878049</td>\n",
       "      <td>0.689394</td>\n",
       "      <td>0.677165</td>\n",
       "      <td>0.753125</td>\n",
       "      <td>0.740385</td>\n",
       "      <td>0.738372</td>\n",
       "      <td>0.675926</td>\n",
       "    </tr>\n",
       "    <tr>\n",
       "      <th>max</th>\n",
       "      <td>1.000000</td>\n",
       "      <td>1.000000</td>\n",
       "      <td>1.000000</td>\n",
       "      <td>1.000000</td>\n",
       "      <td>1.000000</td>\n",
       "      <td>1.000000</td>\n",
       "      <td>1.000000</td>\n",
       "      <td>1.000000</td>\n",
       "      <td>1.000000</td>\n",
       "      <td>1.000000</td>\n",
       "      <td>1.000000</td>\n",
       "      <td>1.000000</td>\n",
       "    </tr>\n",
       "  </tbody>\n",
       "</table>\n",
       "</div>"
      ],
      "text/plain": [
       "       Specific conductance (Maximum)  pH, standard units (Maximum)  \\\n",
       "count                    26085.000000                  26085.000000   \n",
       "mean                         0.071648                      0.887349   \n",
       "std                          0.168408                      0.035386   \n",
       "min                          0.000526                      0.410256   \n",
       "25%                          0.001910                      0.871795   \n",
       "50%                          0.002632                      0.884615   \n",
       "75%                          0.005497                      0.910256   \n",
       "max                          1.000000                      1.000000   \n",
       "\n",
       "       pH, standard units (Minimum)  Specific conductance (Minimum)  \\\n",
       "count                  26085.000000                    26085.000000   \n",
       "mean                       0.030986                        0.047079   \n",
       "std                        0.122239                        0.136686   \n",
       "min                        0.000255                        0.000508   \n",
       "25%                        0.001591                        0.001777   \n",
       "50%                        0.002220                        0.002422   \n",
       "75%                        0.003713                        0.004902   \n",
       "max                        1.000000                        1.000000   \n",
       "\n",
       "       Specific conductance (Mean)  Dissolved oxygen (Maximum)  \\\n",
       "count                 26085.000000                26085.000000   \n",
       "mean                      0.550942                    0.857237   \n",
       "std                       0.119689                    0.031167   \n",
       "min                       0.118421                    0.719512   \n",
       "25%                       0.480263                    0.841463   \n",
       "50%                       0.546053                    0.853659   \n",
       "75%                       0.631579                    0.878049   \n",
       "max                       1.000000                    1.000000   \n",
       "\n",
       "       Dissolved oxygen (Mean)  Dissolved oxygen (Minimum)  \\\n",
       "count             26085.000000                26085.000000   \n",
       "mean                  0.585189                    0.557359   \n",
       "std                   0.146308                    0.172836   \n",
       "min                   0.068182                    0.031496   \n",
       "25%                   0.507576                    0.472441   \n",
       "50%                   0.583333                    0.566929   \n",
       "75%                   0.689394                    0.677165   \n",
       "max                   1.000000                    1.000000   \n",
       "\n",
       "       Temperature (Mean)  Temperature (Minimum)  Temperature (Maximum)  \\\n",
       "count        26085.000000           26085.000000           26085.000000   \n",
       "mean             0.588324               0.569588               0.581686   \n",
       "std              0.200402               0.208671               0.186540   \n",
       "min              0.059375               0.022436               0.090116   \n",
       "25%              0.421875               0.400641               0.427326   \n",
       "50%              0.600000               0.580128               0.595930   \n",
       "75%              0.753125               0.740385               0.738372   \n",
       "max              1.000000               1.000000               1.000000   \n",
       "\n",
       "             Target  \n",
       "count  26085.000000  \n",
       "mean       0.663508  \n",
       "std        0.029385  \n",
       "min        0.574074  \n",
       "25%        0.648148  \n",
       "50%        0.657407  \n",
       "75%        0.675926  \n",
       "max        1.000000  "
      ]
     },
     "execution_count": 14,
     "metadata": {},
     "output_type": "execute_result"
    }
   ],
   "source": [
    "df.describe()"
   ]
  },
  {
   "cell_type": "code",
   "execution_count": 15,
   "metadata": {},
   "outputs": [
    {
     "data": {
      "text/plain": [
       "(26085, 12)"
      ]
     },
     "execution_count": 15,
     "metadata": {},
     "output_type": "execute_result"
    }
   ],
   "source": [
    "df.shape"
   ]
  },
  {
   "cell_type": "code",
   "execution_count": 16,
   "metadata": {},
   "outputs": [],
   "source": [
    "#df = df.iloc[:5000]\n",
    "#df.shape"
   ]
  },
  {
   "cell_type": "markdown",
   "metadata": {},
   "source": [
    "# Save to csv"
   ]
  },
  {
   "cell_type": "code",
   "execution_count": 17,
   "metadata": {},
   "outputs": [],
   "source": [
    "df.to_csv('../data/water_dataset_reshaped.csv', index=False)"
   ]
  }
 ],
 "metadata": {
  "kernelspec": {
   "display_name": "Python_venv",
   "language": "python",
   "name": "python3"
  },
  "language_info": {
   "codemirror_mode": {
    "name": "ipython",
    "version": 3
   },
   "file_extension": ".py",
   "mimetype": "text/x-python",
   "name": "python",
   "nbconvert_exporter": "python",
   "pygments_lexer": "ipython3",
   "version": "3.10.12"
  }
 },
 "nbformat": 4,
 "nbformat_minor": 2
}
