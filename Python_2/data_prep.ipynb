{
 "cells": [
  {
   "cell_type": "code",
   "execution_count": 19,
   "metadata": {},
   "outputs": [],
   "source": [
    "import numpy as np\n",
    "import matplotlib.pyplot as plt\n",
    "import pandas as pd\n",
    "import scipy.io"
   ]
  },
  {
   "cell_type": "markdown",
   "metadata": {},
   "source": [
    "# Loading .mat data"
   ]
  },
  {
   "cell_type": "code",
   "execution_count": 20,
   "metadata": {},
   "outputs": [
    {
     "name": "stdout",
     "output_type": "stream",
     "text": [
      "dict_keys(['__header__', '__version__', '__globals__', 'X_tr', 'X_te', 'Y_tr', 'Y_te', 'location_group', 'features', 'location_ids'])\n"
     ]
    }
   ],
   "source": [
    "path = \"../data/water_dataset.mat\"\n",
    "mat_data = scipy.io.loadmat(path)\n",
    "print(mat_data.keys())"
   ]
  },
  {
   "cell_type": "markdown",
   "metadata": {},
   "source": [
    "# Converting to DataFrame"
   ]
  },
  {
   "cell_type": "code",
   "execution_count": 21,
   "metadata": {},
   "outputs": [],
   "source": [
    "data_dict = {}\n",
    "\n",
    "for key in mat_data.keys():\n",
    "    # Skip the metadata keys that aren't actual data (e.g., '__header__', '__version__', etc.)\n",
    "    if key.startswith('__'):\n",
    "        continue\n",
    "    \n",
    "    # Extract the data for each key (assuming it's an array or matrix)\n",
    "    data_dict[key] = mat_data[key]"
   ]
  },
  {
   "cell_type": "code",
   "execution_count": 22,
   "metadata": {},
   "outputs": [
    {
     "name": "stdout",
     "output_type": "stream",
     "text": [
      "(423, 37, 11)\n",
      "(15651, 11)\n"
     ]
    }
   ],
   "source": [
    "X_train = data_dict['X_tr'].squeeze()\n",
    "X_train = np.stack(X_train, axis=0)\n",
    "print(X_train.shape)\n",
    "X_train = X_train.reshape(-1, 11)\n",
    "print(X_train.shape)"
   ]
  },
  {
   "cell_type": "code",
   "execution_count": 23,
   "metadata": {},
   "outputs": [
    {
     "name": "stdout",
     "output_type": "stream",
     "text": [
      "(282, 37, 11)\n",
      "(10434, 11)\n"
     ]
    }
   ],
   "source": [
    "X_test = data_dict['X_te'].squeeze()\n",
    "X_test = np.stack(X_test, axis=0)\n",
    "print(X_test.shape)\n",
    "X_test = X_test.reshape(-1, 11)\n",
    "print(X_test.shape)"
   ]
  },
  {
   "cell_type": "code",
   "execution_count": 24,
   "metadata": {},
   "outputs": [
    {
     "name": "stdout",
     "output_type": "stream",
     "text": [
      "(15651,)\n"
     ]
    }
   ],
   "source": [
    "y_train = data_dict['Y_tr']\n",
    "y_train = y_train.T.reshape(-1)\n",
    "print(y_train.shape)"
   ]
  },
  {
   "cell_type": "code",
   "execution_count": 25,
   "metadata": {},
   "outputs": [
    {
     "name": "stdout",
     "output_type": "stream",
     "text": [
      "(10434,)\n"
     ]
    }
   ],
   "source": [
    "y_test = data_dict['Y_te']\n",
    "y_test = y_test.T.reshape(-1)\n",
    "print(y_test.shape)"
   ]
  },
  {
   "cell_type": "code",
   "execution_count": 26,
   "metadata": {},
   "outputs": [
    {
     "name": "stdout",
     "output_type": "stream",
     "text": [
      "(26085, 11)\n",
      "(26085,)\n"
     ]
    }
   ],
   "source": [
    "X = np.vstack((X_train, X_test))\n",
    "y = np.hstack((y_train, y_test))\n",
    "\n",
    "print(X.shape)\n",
    "print(y.shape)"
   ]
  },
  {
   "cell_type": "code",
   "execution_count": 27,
   "metadata": {},
   "outputs": [
    {
     "name": "stdout",
     "output_type": "stream",
     "text": [
      "(11,)\n"
     ]
    },
    {
     "data": {
      "text/plain": [
       "['Specific conductance, water, unfiltered, microsiemens per centimeter at 25 degrees Celsius (Maximum)',\n",
       " 'pH, water, unfiltered, field, standard units (Maximum)',\n",
       " 'pH, water, unfiltered, field, standard units (Minimum)',\n",
       " 'Specific conductance, water, unfiltered, microsiemens per centimeter at 25 degrees Celsius (Minimum)',\n",
       " 'Specific conductance, water, unfiltered, microsiemens per centimeter at 25 degrees Celsius (Mean)',\n",
       " 'Dissolved oxygen, water, unfiltered, milligrams per liter (Maximum)',\n",
       " 'Dissolved oxygen, water, unfiltered, milligrams per liter (Mean)',\n",
       " 'Dissolved oxygen, water, unfiltered, milligrams per liter (Minimum)',\n",
       " 'Temperature, water, degrees Celsius (Mean)',\n",
       " 'Temperature, water, degrees Celsius (Minimum)',\n",
       " 'Temperature, water, degrees Celsius (Maximum)']"
      ]
     },
     "execution_count": 27,
     "metadata": {},
     "output_type": "execute_result"
    }
   ],
   "source": [
    "features = data_dict['features'].squeeze()\n",
    "features = np.stack(features, axis=0).squeeze()\n",
    "print(features.shape)\n",
    "features = list(features)\n",
    "features"
   ]
  },
  {
   "cell_type": "code",
   "execution_count": 28,
   "metadata": {},
   "outputs": [],
   "source": [
    "features_short = [\n",
    "    \"Specific conductance (Maximum)\",\n",
    "    \"pH, standard units (Maximum)\",\n",
    "    \"pH, standard units (Minimum)\",\n",
    "    \"Specific conductance (Minimum)\",\n",
    "    \"Specific conductance (Mean)\",\n",
    "    \"Dissolved oxygen, milligrams per liter (Maximum)\",\n",
    "    \"Dissolved oxygen, milligrams per liter (Mean)\",\n",
    "    \"Dissolved oxygen, milligrams per liter (Minimum)\",\n",
    "    \"Temperature, degrees Celsius (Mean)\",\n",
    "    \"Temperature, degrees Celsius (Minimum)\",\n",
    "    \"Temperature, degrees Celsius (Maximum)\"\n",
    "]"
   ]
  },
  {
   "cell_type": "code",
   "execution_count": 29,
   "metadata": {},
   "outputs": [
    {
     "data": {
      "text/html": [
       "<div>\n",
       "<style scoped>\n",
       "    .dataframe tbody tr th:only-of-type {\n",
       "        vertical-align: middle;\n",
       "    }\n",
       "\n",
       "    .dataframe tbody tr th {\n",
       "        vertical-align: top;\n",
       "    }\n",
       "\n",
       "    .dataframe thead th {\n",
       "        text-align: right;\n",
       "    }\n",
       "</style>\n",
       "<table border=\"1\" class=\"dataframe\">\n",
       "  <thead>\n",
       "    <tr style=\"text-align: right;\">\n",
       "      <th></th>\n",
       "      <th>Specific conductance (Maximum)</th>\n",
       "      <th>pH, standard units (Maximum)</th>\n",
       "      <th>pH, standard units (Minimum)</th>\n",
       "      <th>Specific conductance (Minimum)</th>\n",
       "      <th>Specific conductance (Mean)</th>\n",
       "      <th>Dissolved oxygen, milligrams per liter (Maximum)</th>\n",
       "      <th>Dissolved oxygen, milligrams per liter (Mean)</th>\n",
       "      <th>Dissolved oxygen, milligrams per liter (Minimum)</th>\n",
       "      <th>Temperature, degrees Celsius (Mean)</th>\n",
       "      <th>Temperature, degrees Celsius (Minimum)</th>\n",
       "      <th>Temperature, degrees Celsius (Maximum)</th>\n",
       "    </tr>\n",
       "  </thead>\n",
       "  <tbody>\n",
       "    <tr>\n",
       "      <th>0</th>\n",
       "      <td>0.001131</td>\n",
       "      <td>0.884615</td>\n",
       "      <td>0.001120</td>\n",
       "      <td>0.001113</td>\n",
       "      <td>0.677632</td>\n",
       "      <td>0.841463</td>\n",
       "      <td>0.765152</td>\n",
       "      <td>0.787402</td>\n",
       "      <td>0.293750</td>\n",
       "      <td>0.298077</td>\n",
       "      <td>0.276163</td>\n",
       "    </tr>\n",
       "    <tr>\n",
       "      <th>1</th>\n",
       "      <td>0.001170</td>\n",
       "      <td>0.871795</td>\n",
       "      <td>0.001159</td>\n",
       "      <td>0.001152</td>\n",
       "      <td>0.703947</td>\n",
       "      <td>0.829268</td>\n",
       "      <td>0.772727</td>\n",
       "      <td>0.795276</td>\n",
       "      <td>0.293750</td>\n",
       "      <td>0.301282</td>\n",
       "      <td>0.276163</td>\n",
       "    </tr>\n",
       "    <tr>\n",
       "      <th>2</th>\n",
       "      <td>0.001326</td>\n",
       "      <td>0.884615</td>\n",
       "      <td>0.001198</td>\n",
       "      <td>0.001250</td>\n",
       "      <td>0.677632</td>\n",
       "      <td>0.853659</td>\n",
       "      <td>0.750000</td>\n",
       "      <td>0.755906</td>\n",
       "      <td>0.300000</td>\n",
       "      <td>0.298077</td>\n",
       "      <td>0.287791</td>\n",
       "    </tr>\n",
       "    <tr>\n",
       "      <th>3</th>\n",
       "      <td>0.014094</td>\n",
       "      <td>0.858974</td>\n",
       "      <td>0.001238</td>\n",
       "      <td>0.003926</td>\n",
       "      <td>0.697368</td>\n",
       "      <td>0.829268</td>\n",
       "      <td>0.772727</td>\n",
       "      <td>0.771654</td>\n",
       "      <td>0.296875</td>\n",
       "      <td>0.294872</td>\n",
       "      <td>0.279070</td>\n",
       "    </tr>\n",
       "    <tr>\n",
       "      <th>4</th>\n",
       "      <td>0.088109</td>\n",
       "      <td>0.858974</td>\n",
       "      <td>0.010766</td>\n",
       "      <td>0.029297</td>\n",
       "      <td>0.684211</td>\n",
       "      <td>0.853659</td>\n",
       "      <td>0.765152</td>\n",
       "      <td>0.755906</td>\n",
       "      <td>0.296875</td>\n",
       "      <td>0.291667</td>\n",
       "      <td>0.281977</td>\n",
       "    </tr>\n",
       "  </tbody>\n",
       "</table>\n",
       "</div>"
      ],
      "text/plain": [
       "   Specific conductance (Maximum)  pH, standard units (Maximum)  \\\n",
       "0                        0.001131                      0.884615   \n",
       "1                        0.001170                      0.871795   \n",
       "2                        0.001326                      0.884615   \n",
       "3                        0.014094                      0.858974   \n",
       "4                        0.088109                      0.858974   \n",
       "\n",
       "   pH, standard units (Minimum)  Specific conductance (Minimum)  \\\n",
       "0                      0.001120                        0.001113   \n",
       "1                      0.001159                        0.001152   \n",
       "2                      0.001198                        0.001250   \n",
       "3                      0.001238                        0.003926   \n",
       "4                      0.010766                        0.029297   \n",
       "\n",
       "   Specific conductance (Mean)  \\\n",
       "0                     0.677632   \n",
       "1                     0.703947   \n",
       "2                     0.677632   \n",
       "3                     0.697368   \n",
       "4                     0.684211   \n",
       "\n",
       "   Dissolved oxygen, milligrams per liter (Maximum)  \\\n",
       "0                                          0.841463   \n",
       "1                                          0.829268   \n",
       "2                                          0.853659   \n",
       "3                                          0.829268   \n",
       "4                                          0.853659   \n",
       "\n",
       "   Dissolved oxygen, milligrams per liter (Mean)  \\\n",
       "0                                       0.765152   \n",
       "1                                       0.772727   \n",
       "2                                       0.750000   \n",
       "3                                       0.772727   \n",
       "4                                       0.765152   \n",
       "\n",
       "   Dissolved oxygen, milligrams per liter (Minimum)  \\\n",
       "0                                          0.787402   \n",
       "1                                          0.795276   \n",
       "2                                          0.755906   \n",
       "3                                          0.771654   \n",
       "4                                          0.755906   \n",
       "\n",
       "   Temperature, degrees Celsius (Mean)  \\\n",
       "0                             0.293750   \n",
       "1                             0.293750   \n",
       "2                             0.300000   \n",
       "3                             0.296875   \n",
       "4                             0.296875   \n",
       "\n",
       "   Temperature, degrees Celsius (Minimum)  \\\n",
       "0                                0.298077   \n",
       "1                                0.301282   \n",
       "2                                0.298077   \n",
       "3                                0.294872   \n",
       "4                                0.291667   \n",
       "\n",
       "   Temperature, degrees Celsius (Maximum)  \n",
       "0                                0.276163  \n",
       "1                                0.276163  \n",
       "2                                0.287791  \n",
       "3                                0.279070  \n",
       "4                                0.281977  "
      ]
     },
     "execution_count": 29,
     "metadata": {},
     "output_type": "execute_result"
    }
   ],
   "source": [
    "df = pd.DataFrame(X, columns=features_short)\n",
    "df.head()"
   ]
  },
  {
   "cell_type": "code",
   "execution_count": 30,
   "metadata": {},
   "outputs": [
    {
     "data": {
      "text/plain": [
       "(5000, 11)"
      ]
     },
     "execution_count": 30,
     "metadata": {},
     "output_type": "execute_result"
    }
   ],
   "source": [
    "#df = df.iloc[:5000]\n",
    "#df.shape"
   ]
  },
  {
   "cell_type": "markdown",
   "metadata": {},
   "source": [
    "# Save to csv"
   ]
  },
  {
   "cell_type": "code",
   "execution_count": 31,
   "metadata": {},
   "outputs": [],
   "source": [
    "#df.to_csv('../data/water_dataset_reshaped.csv')"
   ]
  },
  {
   "cell_type": "code",
   "execution_count": 32,
   "metadata": {},
   "outputs": [
    {
     "data": {
      "text/plain": [
       "Specific conductance (Maximum)                      float64\n",
       "pH, standard units (Maximum)                        float64\n",
       "pH, standard units (Minimum)                        float64\n",
       "Specific conductance (Minimum)                      float64\n",
       "Specific conductance (Mean)                         float64\n",
       "Dissolved oxygen, milligrams per liter (Maximum)    float64\n",
       "Dissolved oxygen, milligrams per liter (Mean)       float64\n",
       "Dissolved oxygen, milligrams per liter (Minimum)    float64\n",
       "Temperature, degrees Celsius (Mean)                 float64\n",
       "Temperature, degrees Celsius (Minimum)              float64\n",
       "Temperature, degrees Celsius (Maximum)              float64\n",
       "dtype: object"
      ]
     },
     "execution_count": 32,
     "metadata": {},
     "output_type": "execute_result"
    }
   ],
   "source": [
    "df.dtypes"
   ]
  }
 ],
 "metadata": {
  "kernelspec": {
   "display_name": "Python_venv",
   "language": "python",
   "name": "python3"
  },
  "language_info": {
   "codemirror_mode": {
    "name": "ipython",
    "version": 3
   },
   "file_extension": ".py",
   "mimetype": "text/x-python",
   "name": "python",
   "nbconvert_exporter": "python",
   "pygments_lexer": "ipython3",
   "version": "3.10.12"
  }
 },
 "nbformat": 4,
 "nbformat_minor": 2
}
