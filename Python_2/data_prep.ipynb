{
 "cells": [
  {
   "cell_type": "code",
   "execution_count": 2,
   "metadata": {},
   "outputs": [],
   "source": [
    "import numpy as np\n",
    "import matplotlib.pyplot as plt\n",
    "import pandas as pd\n",
    "import scipy.io"
   ]
  },
  {
   "cell_type": "markdown",
   "metadata": {},
   "source": [
    "# Loading .mat data"
   ]
  },
  {
   "cell_type": "code",
   "execution_count": 3,
   "metadata": {},
   "outputs": [
    {
     "name": "stdout",
     "output_type": "stream",
     "text": [
      "dict_keys(['__header__', '__version__', '__globals__', 'X_tr', 'X_te', 'Y_tr', 'Y_te', 'location_group', 'features', 'location_ids'])\n"
     ]
    }
   ],
   "source": [
    "path = \"../data/water_dataset.mat\"\n",
    "mat_data = scipy.io.loadmat(path)\n",
    "print(mat_data.keys())"
   ]
  },
  {
   "cell_type": "markdown",
   "metadata": {},
   "source": [
    "# Converting to DataFrame"
   ]
  },
  {
   "cell_type": "code",
   "execution_count": null,
   "metadata": {},
   "outputs": [],
   "source": [
    "data_dict = {}\n",
    "\n",
    "for key in mat_data.keys():\n",
    "    if key.startswith('__'):\n",
    "        continue\n",
    "    \n",
    "    data_dict[key] = mat_data[key]"
   ]
  },
  {
   "cell_type": "code",
   "execution_count": 5,
   "metadata": {},
   "outputs": [
    {
     "name": "stdout",
     "output_type": "stream",
     "text": [
      "(423, 37, 11)\n",
      "(15651, 11)\n"
     ]
    }
   ],
   "source": [
    "X_train = data_dict['X_tr'].squeeze()\n",
    "X_train = np.stack(X_train, axis=0)\n",
    "print(X_train.shape)\n",
    "X_train = X_train.reshape(-1, 11)\n",
    "print(X_train.shape)"
   ]
  },
  {
   "cell_type": "code",
   "execution_count": 6,
   "metadata": {},
   "outputs": [
    {
     "name": "stdout",
     "output_type": "stream",
     "text": [
      "(282, 37, 11)\n",
      "(10434, 11)\n"
     ]
    }
   ],
   "source": [
    "X_test = data_dict['X_te'].squeeze()\n",
    "X_test = np.stack(X_test, axis=0)\n",
    "print(X_test.shape)\n",
    "X_test = X_test.reshape(-1, 11)\n",
    "print(X_test.shape)"
   ]
  },
  {
   "cell_type": "code",
   "execution_count": 7,
   "metadata": {},
   "outputs": [
    {
     "name": "stdout",
     "output_type": "stream",
     "text": [
      "(15651,)\n"
     ]
    }
   ],
   "source": [
    "y_train = data_dict['Y_tr']\n",
    "y_train = y_train.T.reshape(-1)\n",
    "print(y_train.shape)"
   ]
  },
  {
   "cell_type": "code",
   "execution_count": 8,
   "metadata": {},
   "outputs": [
    {
     "name": "stdout",
     "output_type": "stream",
     "text": [
      "(10434,)\n"
     ]
    }
   ],
   "source": [
    "y_test = data_dict['Y_te']\n",
    "y_test = y_test.T.reshape(-1)\n",
    "print(y_test.shape)"
   ]
  },
  {
   "cell_type": "code",
   "execution_count": 9,
   "metadata": {},
   "outputs": [
    {
     "name": "stdout",
     "output_type": "stream",
     "text": [
      "(26085, 11)\n",
      "(26085,)\n"
     ]
    }
   ],
   "source": [
    "X = np.vstack((X_train, X_test))\n",
    "y = np.hstack((y_train, y_test))\n",
    "\n",
    "print(X.shape)\n",
    "print(y.shape)"
   ]
  },
  {
   "cell_type": "code",
   "execution_count": 13,
   "metadata": {},
   "outputs": [
    {
     "name": "stdout",
     "output_type": "stream",
     "text": [
      "(26085, 12)\n"
     ]
    }
   ],
   "source": [
    "data_merged = np.hstack((X, y.reshape(-1, 1)))\n",
    "print(data_merged.shape)"
   ]
  },
  {
   "cell_type": "code",
   "execution_count": 14,
   "metadata": {},
   "outputs": [
    {
     "name": "stdout",
     "output_type": "stream",
     "text": [
      "(11,)\n"
     ]
    },
    {
     "data": {
      "text/plain": [
       "['Specific conductance, water, unfiltered, microsiemens per centimeter at 25 degrees Celsius (Maximum)',\n",
       " 'pH, water, unfiltered, field, standard units (Maximum)',\n",
       " 'pH, water, unfiltered, field, standard units (Minimum)',\n",
       " 'Specific conductance, water, unfiltered, microsiemens per centimeter at 25 degrees Celsius (Minimum)',\n",
       " 'Specific conductance, water, unfiltered, microsiemens per centimeter at 25 degrees Celsius (Mean)',\n",
       " 'Dissolved oxygen, water, unfiltered, milligrams per liter (Maximum)',\n",
       " 'Dissolved oxygen, water, unfiltered, milligrams per liter (Mean)',\n",
       " 'Dissolved oxygen, water, unfiltered, milligrams per liter (Minimum)',\n",
       " 'Temperature, water, degrees Celsius (Mean)',\n",
       " 'Temperature, water, degrees Celsius (Minimum)',\n",
       " 'Temperature, water, degrees Celsius (Maximum)']"
      ]
     },
     "execution_count": 14,
     "metadata": {},
     "output_type": "execute_result"
    }
   ],
   "source": [
    "features = data_dict['features'].squeeze()\n",
    "features = np.stack(features, axis=0).squeeze()\n",
    "print(features.shape)\n",
    "features = list(features)\n",
    "features"
   ]
  },
  {
   "cell_type": "code",
   "execution_count": 15,
   "metadata": {},
   "outputs": [],
   "source": [
    "features_short = [\n",
    "    \"Specific conductance (Maximum)\",\n",
    "    \"pH, standard units (Maximum)\",\n",
    "    \"pH, standard units (Minimum)\",\n",
    "    \"Specific conductance (Minimum)\",\n",
    "    \"Specific conductance (Mean)\",\n",
    "    \"Dissolved oxygen, milligrams per liter (Maximum)\",\n",
    "    \"Dissolved oxygen, milligrams per liter (Mean)\",\n",
    "    \"Dissolved oxygen, milligrams per liter (Minimum)\",\n",
    "    \"Temperature, degrees Celsius (Mean)\",\n",
    "    \"Temperature, degrees Celsius (Minimum)\",\n",
    "    \"Temperature, degrees Celsius (Maximum)\",\n",
    "    \"Target\"\n",
    "]"
   ]
  },
  {
   "cell_type": "code",
   "execution_count": 16,
   "metadata": {},
   "outputs": [
    {
     "data": {
      "text/html": [
       "<div>\n",
       "<style scoped>\n",
       "    .dataframe tbody tr th:only-of-type {\n",
       "        vertical-align: middle;\n",
       "    }\n",
       "\n",
       "    .dataframe tbody tr th {\n",
       "        vertical-align: top;\n",
       "    }\n",
       "\n",
       "    .dataframe thead th {\n",
       "        text-align: right;\n",
       "    }\n",
       "</style>\n",
       "<table border=\"1\" class=\"dataframe\">\n",
       "  <thead>\n",
       "    <tr style=\"text-align: right;\">\n",
       "      <th></th>\n",
       "      <th>Specific conductance (Maximum)</th>\n",
       "      <th>pH, standard units (Maximum)</th>\n",
       "      <th>pH, standard units (Minimum)</th>\n",
       "      <th>Specific conductance (Minimum)</th>\n",
       "      <th>Specific conductance (Mean)</th>\n",
       "      <th>Dissolved oxygen, milligrams per liter (Maximum)</th>\n",
       "      <th>Dissolved oxygen, milligrams per liter (Mean)</th>\n",
       "      <th>Dissolved oxygen, milligrams per liter (Minimum)</th>\n",
       "      <th>Temperature, degrees Celsius (Mean)</th>\n",
       "      <th>Temperature, degrees Celsius (Minimum)</th>\n",
       "      <th>Temperature, degrees Celsius (Maximum)</th>\n",
       "      <th>Target</th>\n",
       "    </tr>\n",
       "  </thead>\n",
       "  <tbody>\n",
       "    <tr>\n",
       "      <th>0</th>\n",
       "      <td>0.001131</td>\n",
       "      <td>0.884615</td>\n",
       "      <td>0.001120</td>\n",
       "      <td>0.001113</td>\n",
       "      <td>0.677632</td>\n",
       "      <td>0.841463</td>\n",
       "      <td>0.765152</td>\n",
       "      <td>0.787402</td>\n",
       "      <td>0.293750</td>\n",
       "      <td>0.298077</td>\n",
       "      <td>0.276163</td>\n",
       "      <td>0.648148</td>\n",
       "    </tr>\n",
       "    <tr>\n",
       "      <th>1</th>\n",
       "      <td>0.001170</td>\n",
       "      <td>0.871795</td>\n",
       "      <td>0.001159</td>\n",
       "      <td>0.001152</td>\n",
       "      <td>0.703947</td>\n",
       "      <td>0.829268</td>\n",
       "      <td>0.772727</td>\n",
       "      <td>0.795276</td>\n",
       "      <td>0.293750</td>\n",
       "      <td>0.301282</td>\n",
       "      <td>0.276163</td>\n",
       "      <td>0.648148</td>\n",
       "    </tr>\n",
       "    <tr>\n",
       "      <th>2</th>\n",
       "      <td>0.001326</td>\n",
       "      <td>0.884615</td>\n",
       "      <td>0.001198</td>\n",
       "      <td>0.001250</td>\n",
       "      <td>0.677632</td>\n",
       "      <td>0.853659</td>\n",
       "      <td>0.750000</td>\n",
       "      <td>0.755906</td>\n",
       "      <td>0.300000</td>\n",
       "      <td>0.298077</td>\n",
       "      <td>0.287791</td>\n",
       "      <td>0.648148</td>\n",
       "    </tr>\n",
       "    <tr>\n",
       "      <th>3</th>\n",
       "      <td>0.014094</td>\n",
       "      <td>0.858974</td>\n",
       "      <td>0.001238</td>\n",
       "      <td>0.003926</td>\n",
       "      <td>0.697368</td>\n",
       "      <td>0.829268</td>\n",
       "      <td>0.772727</td>\n",
       "      <td>0.771654</td>\n",
       "      <td>0.296875</td>\n",
       "      <td>0.294872</td>\n",
       "      <td>0.279070</td>\n",
       "      <td>0.638889</td>\n",
       "    </tr>\n",
       "    <tr>\n",
       "      <th>4</th>\n",
       "      <td>0.088109</td>\n",
       "      <td>0.858974</td>\n",
       "      <td>0.010766</td>\n",
       "      <td>0.029297</td>\n",
       "      <td>0.684211</td>\n",
       "      <td>0.853659</td>\n",
       "      <td>0.765152</td>\n",
       "      <td>0.755906</td>\n",
       "      <td>0.296875</td>\n",
       "      <td>0.291667</td>\n",
       "      <td>0.281977</td>\n",
       "      <td>0.648148</td>\n",
       "    </tr>\n",
       "  </tbody>\n",
       "</table>\n",
       "</div>"
      ],
      "text/plain": [
       "   Specific conductance (Maximum)  pH, standard units (Maximum)  \\\n",
       "0                        0.001131                      0.884615   \n",
       "1                        0.001170                      0.871795   \n",
       "2                        0.001326                      0.884615   \n",
       "3                        0.014094                      0.858974   \n",
       "4                        0.088109                      0.858974   \n",
       "\n",
       "   pH, standard units (Minimum)  Specific conductance (Minimum)  \\\n",
       "0                      0.001120                        0.001113   \n",
       "1                      0.001159                        0.001152   \n",
       "2                      0.001198                        0.001250   \n",
       "3                      0.001238                        0.003926   \n",
       "4                      0.010766                        0.029297   \n",
       "\n",
       "   Specific conductance (Mean)  \\\n",
       "0                     0.677632   \n",
       "1                     0.703947   \n",
       "2                     0.677632   \n",
       "3                     0.697368   \n",
       "4                     0.684211   \n",
       "\n",
       "   Dissolved oxygen, milligrams per liter (Maximum)  \\\n",
       "0                                          0.841463   \n",
       "1                                          0.829268   \n",
       "2                                          0.853659   \n",
       "3                                          0.829268   \n",
       "4                                          0.853659   \n",
       "\n",
       "   Dissolved oxygen, milligrams per liter (Mean)  \\\n",
       "0                                       0.765152   \n",
       "1                                       0.772727   \n",
       "2                                       0.750000   \n",
       "3                                       0.772727   \n",
       "4                                       0.765152   \n",
       "\n",
       "   Dissolved oxygen, milligrams per liter (Minimum)  \\\n",
       "0                                          0.787402   \n",
       "1                                          0.795276   \n",
       "2                                          0.755906   \n",
       "3                                          0.771654   \n",
       "4                                          0.755906   \n",
       "\n",
       "   Temperature, degrees Celsius (Mean)  \\\n",
       "0                             0.293750   \n",
       "1                             0.293750   \n",
       "2                             0.300000   \n",
       "3                             0.296875   \n",
       "4                             0.296875   \n",
       "\n",
       "   Temperature, degrees Celsius (Minimum)  \\\n",
       "0                                0.298077   \n",
       "1                                0.301282   \n",
       "2                                0.298077   \n",
       "3                                0.294872   \n",
       "4                                0.291667   \n",
       "\n",
       "   Temperature, degrees Celsius (Maximum)    Target  \n",
       "0                                0.276163  0.648148  \n",
       "1                                0.276163  0.648148  \n",
       "2                                0.287791  0.648148  \n",
       "3                                0.279070  0.638889  \n",
       "4                                0.281977  0.648148  "
      ]
     },
     "execution_count": 16,
     "metadata": {},
     "output_type": "execute_result"
    }
   ],
   "source": [
    "df = pd.DataFrame(data_merged, columns=features_short)\n",
    "df.head()"
   ]
  },
  {
   "cell_type": "code",
   "execution_count": 24,
   "metadata": {},
   "outputs": [
    {
     "data": {
      "text/html": [
       "<div>\n",
       "<style scoped>\n",
       "    .dataframe tbody tr th:only-of-type {\n",
       "        vertical-align: middle;\n",
       "    }\n",
       "\n",
       "    .dataframe tbody tr th {\n",
       "        vertical-align: top;\n",
       "    }\n",
       "\n",
       "    .dataframe thead th {\n",
       "        text-align: right;\n",
       "    }\n",
       "</style>\n",
       "<table border=\"1\" class=\"dataframe\">\n",
       "  <thead>\n",
       "    <tr style=\"text-align: right;\">\n",
       "      <th></th>\n",
       "      <th>Specific conductance (Maximum)</th>\n",
       "      <th>pH, standard units (Maximum)</th>\n",
       "      <th>pH, standard units (Minimum)</th>\n",
       "      <th>Specific conductance (Minimum)</th>\n",
       "      <th>Specific conductance (Mean)</th>\n",
       "      <th>Dissolved oxygen, milligrams per liter (Maximum)</th>\n",
       "      <th>Dissolved oxygen, milligrams per liter (Mean)</th>\n",
       "      <th>Dissolved oxygen, milligrams per liter (Minimum)</th>\n",
       "      <th>Temperature, degrees Celsius (Mean)</th>\n",
       "      <th>Temperature, degrees Celsius (Minimum)</th>\n",
       "      <th>Temperature, degrees Celsius (Maximum)</th>\n",
       "      <th>Target</th>\n",
       "    </tr>\n",
       "  </thead>\n",
       "  <tbody>\n",
       "    <tr>\n",
       "      <th>count</th>\n",
       "      <td>5000.000000</td>\n",
       "      <td>5000.000000</td>\n",
       "      <td>5000.000000</td>\n",
       "      <td>5000.000000</td>\n",
       "      <td>5000.000000</td>\n",
       "      <td>5000.000000</td>\n",
       "      <td>5000.000000</td>\n",
       "      <td>5000.000000</td>\n",
       "      <td>5000.000000</td>\n",
       "      <td>5000.000000</td>\n",
       "      <td>5000.000000</td>\n",
       "      <td>5000.000000</td>\n",
       "    </tr>\n",
       "    <tr>\n",
       "      <th>mean</th>\n",
       "      <td>0.042063</td>\n",
       "      <td>0.885954</td>\n",
       "      <td>0.019912</td>\n",
       "      <td>0.027874</td>\n",
       "      <td>0.595538</td>\n",
       "      <td>0.854280</td>\n",
       "      <td>0.643294</td>\n",
       "      <td>0.623628</td>\n",
       "      <td>0.516284</td>\n",
       "      <td>0.491627</td>\n",
       "      <td>0.519024</td>\n",
       "      <td>0.661537</td>\n",
       "    </tr>\n",
       "    <tr>\n",
       "      <th>std</th>\n",
       "      <td>0.119650</td>\n",
       "      <td>0.033377</td>\n",
       "      <td>0.091304</td>\n",
       "      <td>0.099606</td>\n",
       "      <td>0.103284</td>\n",
       "      <td>0.030586</td>\n",
       "      <td>0.121780</td>\n",
       "      <td>0.140951</td>\n",
       "      <td>0.158054</td>\n",
       "      <td>0.164508</td>\n",
       "      <td>0.148592</td>\n",
       "      <td>0.029496</td>\n",
       "    </tr>\n",
       "    <tr>\n",
       "      <th>min</th>\n",
       "      <td>0.000526</td>\n",
       "      <td>0.705128</td>\n",
       "      <td>0.000432</td>\n",
       "      <td>0.000508</td>\n",
       "      <td>0.236842</td>\n",
       "      <td>0.768293</td>\n",
       "      <td>0.212121</td>\n",
       "      <td>0.125984</td>\n",
       "      <td>0.112500</td>\n",
       "      <td>0.067308</td>\n",
       "      <td>0.145349</td>\n",
       "      <td>0.592593</td>\n",
       "    </tr>\n",
       "    <tr>\n",
       "      <th>25%</th>\n",
       "      <td>0.001852</td>\n",
       "      <td>0.871795</td>\n",
       "      <td>0.001513</td>\n",
       "      <td>0.001699</td>\n",
       "      <td>0.526316</td>\n",
       "      <td>0.829268</td>\n",
       "      <td>0.568182</td>\n",
       "      <td>0.551181</td>\n",
       "      <td>0.400000</td>\n",
       "      <td>0.368590</td>\n",
       "      <td>0.409884</td>\n",
       "      <td>0.638889</td>\n",
       "    </tr>\n",
       "    <tr>\n",
       "      <th>50%</th>\n",
       "      <td>0.002515</td>\n",
       "      <td>0.884615</td>\n",
       "      <td>0.002063</td>\n",
       "      <td>0.002344</td>\n",
       "      <td>0.592105</td>\n",
       "      <td>0.853659</td>\n",
       "      <td>0.643939</td>\n",
       "      <td>0.629921</td>\n",
       "      <td>0.528125</td>\n",
       "      <td>0.503205</td>\n",
       "      <td>0.531977</td>\n",
       "      <td>0.657407</td>\n",
       "    </tr>\n",
       "    <tr>\n",
       "      <th>75%</th>\n",
       "      <td>0.004873</td>\n",
       "      <td>0.910256</td>\n",
       "      <td>0.002986</td>\n",
       "      <td>0.004063</td>\n",
       "      <td>0.671053</td>\n",
       "      <td>0.878049</td>\n",
       "      <td>0.727273</td>\n",
       "      <td>0.716535</td>\n",
       "      <td>0.628125</td>\n",
       "      <td>0.608974</td>\n",
       "      <td>0.627907</td>\n",
       "      <td>0.675926</td>\n",
       "    </tr>\n",
       "    <tr>\n",
       "      <th>max</th>\n",
       "      <td>0.814815</td>\n",
       "      <td>0.974359</td>\n",
       "      <td>0.768173</td>\n",
       "      <td>0.781250</td>\n",
       "      <td>0.953947</td>\n",
       "      <td>0.975610</td>\n",
       "      <td>0.939394</td>\n",
       "      <td>0.929134</td>\n",
       "      <td>0.943750</td>\n",
       "      <td>0.929487</td>\n",
       "      <td>0.953488</td>\n",
       "      <td>0.962963</td>\n",
       "    </tr>\n",
       "  </tbody>\n",
       "</table>\n",
       "</div>"
      ],
      "text/plain": [
       "       Specific conductance (Maximum)  pH, standard units (Maximum)  \\\n",
       "count                     5000.000000                   5000.000000   \n",
       "mean                         0.042063                      0.885954   \n",
       "std                          0.119650                      0.033377   \n",
       "min                          0.000526                      0.705128   \n",
       "25%                          0.001852                      0.871795   \n",
       "50%                          0.002515                      0.884615   \n",
       "75%                          0.004873                      0.910256   \n",
       "max                          0.814815                      0.974359   \n",
       "\n",
       "       pH, standard units (Minimum)  Specific conductance (Minimum)  \\\n",
       "count                   5000.000000                     5000.000000   \n",
       "mean                       0.019912                        0.027874   \n",
       "std                        0.091304                        0.099606   \n",
       "min                        0.000432                        0.000508   \n",
       "25%                        0.001513                        0.001699   \n",
       "50%                        0.002063                        0.002344   \n",
       "75%                        0.002986                        0.004063   \n",
       "max                        0.768173                        0.781250   \n",
       "\n",
       "       Specific conductance (Mean)  \\\n",
       "count                  5000.000000   \n",
       "mean                      0.595538   \n",
       "std                       0.103284   \n",
       "min                       0.236842   \n",
       "25%                       0.526316   \n",
       "50%                       0.592105   \n",
       "75%                       0.671053   \n",
       "max                       0.953947   \n",
       "\n",
       "       Dissolved oxygen, milligrams per liter (Maximum)  \\\n",
       "count                                       5000.000000   \n",
       "mean                                           0.854280   \n",
       "std                                            0.030586   \n",
       "min                                            0.768293   \n",
       "25%                                            0.829268   \n",
       "50%                                            0.853659   \n",
       "75%                                            0.878049   \n",
       "max                                            0.975610   \n",
       "\n",
       "       Dissolved oxygen, milligrams per liter (Mean)  \\\n",
       "count                                    5000.000000   \n",
       "mean                                        0.643294   \n",
       "std                                         0.121780   \n",
       "min                                         0.212121   \n",
       "25%                                         0.568182   \n",
       "50%                                         0.643939   \n",
       "75%                                         0.727273   \n",
       "max                                         0.939394   \n",
       "\n",
       "       Dissolved oxygen, milligrams per liter (Minimum)  \\\n",
       "count                                       5000.000000   \n",
       "mean                                           0.623628   \n",
       "std                                            0.140951   \n",
       "min                                            0.125984   \n",
       "25%                                            0.551181   \n",
       "50%                                            0.629921   \n",
       "75%                                            0.716535   \n",
       "max                                            0.929134   \n",
       "\n",
       "       Temperature, degrees Celsius (Mean)  \\\n",
       "count                          5000.000000   \n",
       "mean                              0.516284   \n",
       "std                               0.158054   \n",
       "min                               0.112500   \n",
       "25%                               0.400000   \n",
       "50%                               0.528125   \n",
       "75%                               0.628125   \n",
       "max                               0.943750   \n",
       "\n",
       "       Temperature, degrees Celsius (Minimum)  \\\n",
       "count                             5000.000000   \n",
       "mean                                 0.491627   \n",
       "std                                  0.164508   \n",
       "min                                  0.067308   \n",
       "25%                                  0.368590   \n",
       "50%                                  0.503205   \n",
       "75%                                  0.608974   \n",
       "max                                  0.929487   \n",
       "\n",
       "       Temperature, degrees Celsius (Maximum)       Target  \n",
       "count                             5000.000000  5000.000000  \n",
       "mean                                 0.519024     0.661537  \n",
       "std                                  0.148592     0.029496  \n",
       "min                                  0.145349     0.592593  \n",
       "25%                                  0.409884     0.638889  \n",
       "50%                                  0.531977     0.657407  \n",
       "75%                                  0.627907     0.675926  \n",
       "max                                  0.953488     0.962963  "
      ]
     },
     "execution_count": 24,
     "metadata": {},
     "output_type": "execute_result"
    }
   ],
   "source": [
    "df.describe()"
   ]
  },
  {
   "cell_type": "code",
   "execution_count": 20,
   "metadata": {},
   "outputs": [
    {
     "data": {
      "text/plain": [
       "(26085, 12)"
      ]
     },
     "execution_count": 20,
     "metadata": {},
     "output_type": "execute_result"
    }
   ],
   "source": [
    "df.shape"
   ]
  },
  {
   "cell_type": "code",
   "execution_count": 21,
   "metadata": {},
   "outputs": [
    {
     "data": {
      "text/plain": [
       "(5000, 12)"
      ]
     },
     "execution_count": 21,
     "metadata": {},
     "output_type": "execute_result"
    }
   ],
   "source": [
    "df = df.iloc[:5000]\n",
    "df.shape"
   ]
  },
  {
   "cell_type": "markdown",
   "metadata": {},
   "source": [
    "# Save to csv"
   ]
  },
  {
   "cell_type": "code",
   "execution_count": null,
   "metadata": {},
   "outputs": [],
   "source": [
    "#df.to_csv('../data/water_dataset_reshaped.csv')"
   ]
  }
 ],
 "metadata": {
  "kernelspec": {
   "display_name": "Python_venv",
   "language": "python",
   "name": "python3"
  },
  "language_info": {
   "codemirror_mode": {
    "name": "ipython",
    "version": 3
   },
   "file_extension": ".py",
   "mimetype": "text/x-python",
   "name": "python",
   "nbconvert_exporter": "python",
   "pygments_lexer": "ipython3",
   "version": "3.10.12"
  }
 },
 "nbformat": 4,
 "nbformat_minor": 2
}
